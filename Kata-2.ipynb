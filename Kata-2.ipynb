{
 "cells": [
  {
   "cell_type": "markdown",
   "metadata": {},
   "source": [
    "## Crear un entorno virtual\n",
    "\n",
    "Desde tu terminal ve al directorio donde deseas guardar tu proyecto. (Documentos/TuFolderPreferido) Ejemplo en windows: cd Documents/TuFolderPreferido\n",
    "\n",
    "En consola: python3 -m venv env\n",
    "\n",
    "Donde:\n",
    "\n",
    "python3: La versión de python a utilizar.\n",
    "venv: Llamada al módulo venv conocido como virtual environment.\n",
    "env: Nombre de nuestro entorno virtual."
   ]
  },
  {
   "cell_type": "markdown",
   "metadata": {},
   "source": [
    "## Activar el entorno virtual\n",
    "Windows\n",
    "  env\\Scripts\\activate\n",
    "\n",
    "  Llamar al comando activate cambia el mensaje de salida de la consola. Ahora está precedido con (env) y se parece a este ejemplo:\n",
    "\n",
    "  (env) -> path/to/project "
   ]
  },
  {
   "cell_type": "markdown",
   "metadata": {},
   "source": [
    "## Instalar un paquete\n",
    "\n",
    "Para instalar un paquete, ejecute:\n",
    "\n",
    "pip install python-dateutil\n",
    "\n",
    "Para ver qué paquetes están ahora instalados en tu entorno virtual, puedes ejecutar: pip freeze.\n",
    "\n",
    "-- Mensaje de salida en consola\n",
    "  python-dateutil==2.8.2\n",
    "  six==1.16.0"
   ]
  },
  {
   "cell_type": "markdown",
   "metadata": {},
   "source": [
    "## Desactivar entorno virtual \n",
    "\n",
    "-- En consola:\n",
    "  deactivate\n",
    "\n",
    "  Observa cómo cambia el mensaje de la terminal. Ya no está precedido por (env) y ha regresado a su estado anterior."
   ]
  }
 ],
 "metadata": {
  "language_info": {
   "name": "python"
  },
  "orig_nbformat": 4
 },
 "nbformat": 4,
 "nbformat_minor": 2
}
