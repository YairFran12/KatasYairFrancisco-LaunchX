{
 "cells": [
  {
   "cell_type": "markdown",
   "metadata": {},
   "source": [
    "# Ejercicio1: Crear y usar listas de Python\n",
    "\n",
    "Ejercicio: Usar listas para almacenar nombres de planetas"
   ]
  },
  {
   "cell_type": "code",
   "execution_count": 8,
   "metadata": {},
   "outputs": [
    {
     "name": "stdout",
     "output_type": "stream",
     "text": [
      "Numero de Planetas: 8\n",
      "Pluton\n"
     ]
    }
   ],
   "source": [
    "\n",
    "planetas = [\"Mercurio\", \"Venus\", \"Tierra\", \"Marte\" \"Jupiter\", \"Saturno\", \"Urano\", \"Neptuno\"]\n",
    "\n",
    "print(f\"Numero de Planetas: { len(planetas) + 1}\")\n",
    "\n",
    "planetas.append(\"Pluton\")\n",
    "\n",
    "print(planetas.pop())"
   ]
  },
  {
   "cell_type": "markdown",
   "metadata": {},
   "source": [
    "## Ejercicio 2: Trabajando con datos de una lista\n",
    "Usar slices para recuperar partes de una lista"
   ]
  },
  {
   "cell_type": "code",
   "execution_count": 21,
   "metadata": {},
   "outputs": [
    {
     "name": "stdout",
     "output_type": "stream",
     "text": [
      "El planeta se encuentra en la posicion 1\n",
      "El planeta mas cercano a el es: Mercury\n",
      "El planeta mas alejado a el es: Earth\n"
     ]
    }
   ],
   "source": [
    "# Lista de planetas\n",
    "planetas = ['Mercury', 'Venus', 'Earth', 'Mars', 'Jupiter', 'Saturn', 'Neptune']\n",
    "\n",
    "planetaE = input(\"Escoge un planeta\")\n",
    "\n",
    "index = planetas.index(planetaE)\n",
    "\n",
    "print(\"El planeta se encuentra en la posicion \" + str(index))\n",
    "\n",
    "print(\"El planeta mas cercano a el es: \" + planetas[index -  1])\n",
    "\n",
    "print(\"El planeta mas alejado a el es: \" + planetas[index +  1])"
   ]
  }
 ],
 "metadata": {
  "interpreter": {
   "hash": "6de230a3bd3e5d0b873d1da3d0d0fecca739ce0ba1232f4b1b21b475ee752c11"
  },
  "kernelspec": {
   "display_name": "Python 3.10.2 64-bit",
   "language": "python",
   "name": "python3"
  },
  "language_info": {
   "codemirror_mode": {
    "name": "ipython",
    "version": 3
   },
   "file_extension": ".py",
   "mimetype": "text/x-python",
   "name": "python",
   "nbconvert_exporter": "python",
   "pygments_lexer": "ipython3",
   "version": "3.10.2"
  },
  "orig_nbformat": 4
 },
 "nbformat": 4,
 "nbformat_minor": 2
}
