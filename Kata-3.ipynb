{
 "cells": [
  {
   "cell_type": "code",
   "execution_count": 12,
   "metadata": {},
   "outputs": [
    {
     "name": "stdout",
     "output_type": "stream",
     "text": [
      "Un asteroide se acerca\n",
      "Se ve un resplandor en el cielo\n",
      "Peligro!! El asteroide puede causar muchos danios\n"
     ]
    }
   ],
   "source": [
    "velocidadA = 26\n",
    "tamanioA = 26\n",
    "\n",
    "if velocidadA >= 20:\n",
    "    print(\"Un asteroide se acerca\")\n",
    "    print(\"Se ve un resplandor en el cielo\")\n",
    "    if velocidadA > 25 and tamanioA > 25:      \n",
    "        print(\"Peligro!! El asteroide puede causar muchos danios\")\n",
    "    else: \n",
    "        print (\"Nada que preocuparse, No es un peligro\")\n",
    "else: \n",
    "    print (\"Todo en orden\")\n"
   ]
  }
 ],
 "metadata": {
  "interpreter": {
   "hash": "6de230a3bd3e5d0b873d1da3d0d0fecca739ce0ba1232f4b1b21b475ee752c11"
  },
  "kernelspec": {
   "display_name": "Python 3.10.2 64-bit",
   "language": "python",
   "name": "python3"
  },
  "language_info": {
   "codemirror_mode": {
    "name": "ipython",
    "version": 3
   },
   "file_extension": ".py",
   "mimetype": "text/x-python",
   "name": "python",
   "nbconvert_exporter": "python",
   "pygments_lexer": "ipython3",
   "version": "3.10.2"
  },
  "orig_nbformat": 4
 },
 "nbformat": 4,
 "nbformat_minor": 2
}
