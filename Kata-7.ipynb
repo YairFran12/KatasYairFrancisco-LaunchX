{
 "cells": [
  {
   "cell_type": "markdown",
   "metadata": {},
   "source": [
    "# Ejercicio 1: Creación de un bucle \"while\"\n",
    "# Ejercicio 2: Creación de un ciclo \"for\""
   ]
  },
  {
   "cell_type": "code",
   "execution_count": null,
   "metadata": {},
   "outputs": [],
   "source": [
    "planeta = \"\"\n",
    "planetas = []\n",
    "\n",
    "while True:\n",
    "    planeta = input(\"Nombre del planeta\")\n",
    "\n",
    "    if planeta != \"done\":\n",
    "        planetas.append(planeta)\n",
    "    else:\n",
    "        break\n",
    "\n",
    "for planeta in planetas:\n",
    "    print(planeta)"
   ]
  }
 ],
 "metadata": {
  "language_info": {
   "name": "python"
  },
  "orig_nbformat": 4
 },
 "nbformat": 4,
 "nbformat_minor": 2
}
