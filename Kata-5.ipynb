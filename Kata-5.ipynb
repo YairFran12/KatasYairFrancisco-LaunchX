{
 "cells": [
  {
   "cell_type": "markdown",
   "metadata": {},
   "source": [
    "Ejercicio1 - Utilizar operadores aritméticos"
   ]
  },
  {
   "cell_type": "code",
   "execution_count": 10,
   "metadata": {},
   "outputs": [
    {
     "name": "stdout",
     "output_type": "stream",
     "text": [
      "390577533.93 mi\n"
     ]
    }
   ],
   "source": [
    "DistanciaT = 149597870\n",
    "DistanciaJ = 778547200\n",
    "\n",
    "#Distancia entres dos planetas\n",
    "distanciaTotal =  f\"{(DistanciaJ - DistanciaT) * 0.621} mi\"\n",
    "print(distanciaTotal)\n",
    "\n"
   ]
  },
  {
   "cell_type": "markdown",
   "metadata": {},
   "source": [
    "Ejercicio 2: convierte cadenas en números y usa valores absolutos"
   ]
  },
  {
   "cell_type": "code",
   "execution_count": 9,
   "metadata": {},
   "outputs": [
    {
     "name": "stdout",
     "output_type": "stream",
     "text": [
      "6.8309999999999995 millas\n"
     ]
    }
   ],
   "source": [
    "planeta1 = int(input(\"Ingresa la distancia del Primer planeta\"))\n",
    "planeta2 = int(input(\"Ingresa la distancia del Segundo planeta\"))\n",
    "\n",
    "distanciaTotal = f\"{ abs((planeta2 - planeta1) * 0.621) } mi\"\n",
    "\n",
    "print(distanciaTotal)"
   ]
  }
 ],
 "metadata": {
  "interpreter": {
   "hash": "6de230a3bd3e5d0b873d1da3d0d0fecca739ce0ba1232f4b1b21b475ee752c11"
  },
  "kernelspec": {
   "display_name": "Python 3.10.2 64-bit",
   "language": "python",
   "name": "python3"
  },
  "language_info": {
   "codemirror_mode": {
    "name": "ipython",
    "version": 3
   },
   "file_extension": ".py",
   "mimetype": "text/x-python",
   "name": "python",
   "nbconvert_exporter": "python",
   "pygments_lexer": "ipython3",
   "version": "3.10.2"
  },
  "orig_nbformat": 4
 },
 "nbformat": 4,
 "nbformat_minor": 2
}
