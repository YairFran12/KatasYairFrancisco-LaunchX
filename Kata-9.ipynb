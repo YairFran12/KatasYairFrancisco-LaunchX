{
 "cells": [
  {
   "cell_type": "markdown",
   "metadata": {},
   "source": [
    "# Ejercicio 1: Trabajar con argumentos en funciones"
   ]
  },
  {
   "cell_type": "code",
   "execution_count": 7,
   "metadata": {},
   "outputs": [
    {
     "data": {
      "text/plain": [
       "106.66666666666667"
      ]
     },
     "execution_count": 7,
     "metadata": {},
     "output_type": "execute_result"
    }
   ],
   "source": [
    "def combustibleP(com1, com2, com3):\n",
    "    resultado = promedio(com1, com2, com3)\n",
    "    return resultado\n",
    "\n",
    "def promedio (com1, com2, com3):\n",
    "    total = (com1 + com2 + com3) / 3\n",
    "    return total\n",
    "\n",
    "combustibleP(100,120,100)"
   ]
  },
  {
   "cell_type": "markdown",
   "metadata": {},
   "source": [
    "# Ejercicio 2: Trabajo con argumentos de palabra clave\n",
    "Ejercicio : Trabajar con argumentos de palabras clave en funciones"
   ]
  },
  {
   "cell_type": "code",
   "execution_count": 26,
   "metadata": {},
   "outputs": [
    {
     "name": "stdout",
     "output_type": "stream",
     "text": [
      " \n",
      "        Destino: Tierra\n",
      "        Tiempo total: 74 minutes\n",
      "        Total Combustible [('main', 4000), ('external', 4000)]\n",
      "        \n"
     ]
    }
   ],
   "source": [
    "reporte1 = []\n",
    "\n",
    "def mission_report(destino, *tiempo, **combustible):\n",
    "\n",
    "    for comb in combustible.items():\n",
    "        reporte1.append(comb)\n",
    "\n",
    "        reporte = f\"\"\" \n",
    "        Destino: {destino}\n",
    "        Tiempo total: {sum(tiempo)} minutes\n",
    "        Total Combustible {reporte1}\n",
    "        \"\"\"\n",
    "    return reporte\n",
    "\n",
    "print(mission_report(\"Tierra\", 20, 44, 10, main=4000, external=9000))\n"
   ]
  }
 ],
 "metadata": {
  "interpreter": {
   "hash": "6de230a3bd3e5d0b873d1da3d0d0fecca739ce0ba1232f4b1b21b475ee752c11"
  },
  "kernelspec": {
   "display_name": "Python 3.10.2 64-bit",
   "language": "python",
   "name": "python3"
  },
  "language_info": {
   "codemirror_mode": {
    "name": "ipython",
    "version": 3
   },
   "file_extension": ".py",
   "mimetype": "text/x-python",
   "name": "python",
   "nbconvert_exporter": "python",
   "pygments_lexer": "ipython3",
   "version": "3.10.2"
  },
  "orig_nbformat": 4
 },
 "nbformat": 4,
 "nbformat_minor": 2
}
